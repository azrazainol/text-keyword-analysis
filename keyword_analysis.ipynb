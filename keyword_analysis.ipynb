{
  "nbformat": 4,
  "nbformat_minor": 0,
  "metadata": {
    "colab": {
      "provenance": [],
      "authorship_tag": "ABX9TyOYKkm7JNDjOsEyR218j8E7",
      "include_colab_link": true
    },
    "kernelspec": {
      "name": "python3",
      "display_name": "Python 3"
    },
    "language_info": {
      "name": "python"
    }
  },
  "cells": [
    {
      "cell_type": "markdown",
      "metadata": {
        "id": "view-in-github",
        "colab_type": "text"
      },
      "source": [
        "<a href=\"https://colab.research.google.com/github/azrazainol/text-keyword-analysis/blob/main/keyword_analysis.ipynb\" target=\"_parent\"><img src=\"https://colab.research.google.com/assets/colab-badge.svg\" alt=\"Open In Colab\"/></a>"
      ]
    },
    {
      "cell_type": "markdown",
      "source": [
        "### **Introduction**\n",
        "\n",
        "Keyword analysis and word frequency analysis are part of Natural Language Processing (NLP), a form of artificial intelligence focusing on natural language which is the human language. Below is the program for keyword analysis and word frequency analysis. The main process consists of:\n",
        "\n",
        "1. importing txt file(s) for analysis,\n",
        "2. data cleaning involving removing stopwords and tokenization,\n",
        "3. extracting keywords using Rake-NLTK,\n",
        "4. calculating word frequency.\n",
        "\n",
        "At the end, the program also provides a barplot and donut chart to visualise the frequencies of the keywords."
      ],
      "metadata": {
        "id": "zX7KGaWYU7lx"
      }
    },
    {
      "cell_type": "markdown",
      "source": [
        "---\n",
        "### **Load Packages**\n",
        "Load all the packages required to do text analysis:"
      ],
      "metadata": {
        "id": "oFuPrgahNpyx"
      }
    },
    {
      "cell_type": "code",
      "execution_count": null,
      "metadata": {
        "id": "m53_KuhzMQzr",
        "colab": {
          "base_uri": "https://localhost:8080/"
        },
        "outputId": "67af225f-13e5-44e8-b41e-122bc576e5c4"
      },
      "outputs": [
        {
          "output_type": "stream",
          "name": "stdout",
          "text": [
            "Requirement already satisfied: rake-nltk in /usr/local/lib/python3.10/dist-packages (1.0.6)\n",
            "Requirement already satisfied: nltk<4.0.0,>=3.6.2 in /usr/local/lib/python3.10/dist-packages (from rake-nltk) (3.8.1)\n",
            "Requirement already satisfied: click in /usr/local/lib/python3.10/dist-packages (from nltk<4.0.0,>=3.6.2->rake-nltk) (8.1.7)\n",
            "Requirement already satisfied: joblib in /usr/local/lib/python3.10/dist-packages (from nltk<4.0.0,>=3.6.2->rake-nltk) (1.3.2)\n",
            "Requirement already satisfied: regex>=2021.8.3 in /usr/local/lib/python3.10/dist-packages (from nltk<4.0.0,>=3.6.2->rake-nltk) (2023.6.3)\n",
            "Requirement already satisfied: tqdm in /usr/local/lib/python3.10/dist-packages (from nltk<4.0.0,>=3.6.2->rake-nltk) (4.66.1)\n"
          ]
        },
        {
          "output_type": "stream",
          "name": "stderr",
          "text": [
            "[nltk_data] Downloading package stopwords to /root/nltk_data...\n",
            "[nltk_data]   Package stopwords is already up-to-date!\n",
            "[nltk_data] Downloading package punkt to /root/nltk_data...\n",
            "[nltk_data]   Package punkt is already up-to-date!\n"
          ]
        },
        {
          "output_type": "execute_result",
          "data": {
            "text/plain": [
              "True"
            ]
          },
          "metadata": {},
          "execution_count": 1
        }
      ],
      "source": [
        "# Download necessary packages\n",
        "!pip install rake-nltk\n",
        "import re\n",
        "from collections import Counter\n",
        "from nltk.corpus import stopwords\n",
        "import nltk\n",
        "nltk.download('stopwords')\n",
        "import matplotlib.pyplot as plt\n",
        "from rake_nltk import Rake\n",
        "from collections import Counter\n",
        "import nltk\n",
        "nltk.download('punkt')"
      ]
    },
    {
      "cell_type": "markdown",
      "source": [
        "Mount google.colab to drive:"
      ],
      "metadata": {
        "id": "lmDDzdRLYEWq"
      }
    },
    {
      "cell_type": "code",
      "source": [
        "from google.colab import drive\n",
        "drive.mount('/content/drive')"
      ],
      "metadata": {
        "id": "5LT-jZyWRAx5"
      },
      "execution_count": null,
      "outputs": []
    },
    {
      "cell_type": "markdown",
      "source": [
        "Import necessary .txt files from local files into google.colab:"
      ],
      "metadata": {
        "id": "qodn44MBYK-C"
      }
    },
    {
      "cell_type": "code",
      "source": [
        "from google.colab import files\n",
        "files.upload()"
      ],
      "metadata": {
        "id": "he_7RjS-TGQT"
      },
      "execution_count": null,
      "outputs": []
    },
    {
      "cell_type": "markdown",
      "source": [
        "---\n",
        "\n",
        "### **Data**\n",
        "\n",
        "This section allows users to input as many text files and combine them as one for combined text analysis.\n",
        "\n",
        "the code below defines functions for\n",
        "1. file selection,\n",
        "2. file combination (UTF-8), and\n",
        "3. exporting combined file as \"combined_file.txt\".\n",
        "\n",
        "UTF-8 encoding (Unicode Transformation Format - 8-bit) is a standard character format that can represent characters used worldwide. It is important to use UTF-8 so that the program could read text with diverse characters."
      ],
      "metadata": {
        "id": "ndxkboGeYSkx"
      }
    },
    {
      "cell_type": "code",
      "source": [
        "# 1. file selection\n",
        "def select_files():\n",
        "    print(\"Step 1: Select multiple text files.\")\n",
        "    file_paths = input(\"Enter the paths to the text files (separated by space): \").split()\n",
        "    return file_paths"
      ],
      "metadata": {
        "id": "fNEtjkPNXISp"
      },
      "execution_count": null,
      "outputs": []
    },
    {
      "cell_type": "code",
      "source": [
        "# 2. file combination\n",
        "# 3. exporting file as \"combined_file.txt\"\n",
        "def combine_files(file_paths, output_file):\n",
        "    with open(output_file, 'w', encoding='utf-8') as output:\n",
        "        for file_path in file_paths:\n",
        "            with open(file_path, 'r', encoding='utf-8') as file:\n",
        "                output.write(file.read() + '\\n')"
      ],
      "metadata": {
        "id": "ZMXcfVKCXLGm"
      },
      "execution_count": null,
      "outputs": []
    },
    {
      "cell_type": "code",
      "source": [
        "# run functions for file import/export\n",
        "files = select_files()\n",
        "print(\"\\nStep 2: Combining selected files.\")\n",
        "combined_file_path = \"combined_file.txt\"\n",
        "combine_files(files, combined_file_path)\n",
        "print(f\"Combined file saved at: {combined_file_path}\")\n",
        "print(\"\\nStep 3: Importing combined file for analysis.\")"
      ],
      "metadata": {
        "colab": {
          "base_uri": "https://localhost:8080/"
        },
        "id": "lvkqRtIiXZlp",
        "outputId": "108f6fe9-0a0d-4385-b2d8-d354743bbd6d"
      },
      "execution_count": null,
      "outputs": [
        {
          "output_type": "stream",
          "name": "stdout",
          "text": [
            "Step 1: Select multiple text files.\n",
            "Enter the paths to the text files (separated by space): /content/Charles_Dickens.txt\n",
            "\n",
            "Step 2: Combining selected files.\n",
            "Combined file saved at: combined_file.txt\n",
            "\n",
            "Step 3: Importing combined file for analysis.\n"
          ]
        }
      ]
    },
    {
      "cell_type": "code",
      "source": [
        "# Check the exported file:\n",
        "!cat /content/combined_file.txt"
      ],
      "metadata": {
        "id": "3ZOQvY1dboYN"
      },
      "execution_count": null,
      "outputs": []
    },
    {
      "cell_type": "markdown",
      "source": [
        "\n",
        "\n",
        "---\n",
        "### **Defining Functions for Word Frequency Analysis**\n",
        "\n",
        "Define functions for word frequency analysis:\n",
        "\n",
        "1. read text file,\n",
        "2. clean text file and tokenize words,\n",
        "3. remove common words and stopwords (English specific) and count the number of occurence for each word,\n",
        "4. calculate the frequency of words in the text file,\n",
        "5. extracting keywords using the Rake-NLTK package."
      ],
      "metadata": {
        "id": "OcHgyK4igCIm"
      }
    },
    {
      "cell_type": "code",
      "source": [
        "# 1. read text file\n",
        "def read_text_file(file_path = 'combined_file.txt'):\n",
        "    with open(file_path, 'r', encoding='utf-8') as file:\n",
        "        text = file.read()\n",
        "    return text\n",
        "\n",
        "# 2. clean text file and tokenize words\n",
        "def preprocess_text(text):\n",
        "    text = re.sub(r'[^a-zA-Z\\s]', ' ', text.lower())\n",
        "    return text\n",
        "\n",
        "# 3. remove common words and count the number of occurence for each word\n",
        "# add or remove words from \"common_words\" depending on the text\n",
        "def exclude_common_words(word_counts):\n",
        "    common_words = set(['a', 'the', 'and', 'to', 'from', 'where', 'what', 'was', 'when', 'i', 'you', 'we', 'us', 'me', 'for',\n",
        "                        'project', 'gutenberg','ebook', 'license'])\n",
        "    filtered_word_counts = {word: count for word, count in word_counts.items() if word.lower() not in common_words}\n",
        "    return Counter(filtered_word_counts)\n",
        "\n",
        "# remove English stopwords and count the number of occurence for each word\n",
        "def exclude_stop_words(word_counts):\n",
        "    stop_words = set(stopwords.words('english'))\n",
        "    filtered_word_counts = {word: count for word, count in word_counts.items() if word not in stop_words}\n",
        "    return Counter(filtered_word_counts)\n",
        "\n",
        "# 4. calculate the frequency of words\n",
        "def calculate_percentage(count, total):\n",
        "    return (count / total) * 100 if total > 0 else 0\n",
        "\n",
        "# 5. extract keywords using Rake-NLTK\n",
        "def extract_keywords(text):\n",
        "    rake_nltk_var = Rake()\n",
        "    rake_nltk_var.extract_keywords_from_text(text)\n",
        "    return rake_nltk_var.get_ranked_phrases()"
      ],
      "metadata": {
        "id": "zfoXyP3va51Z"
      },
      "execution_count": null,
      "outputs": []
    },
    {
      "cell_type": "markdown",
      "source": [
        "\n",
        "---\n",
        "\n",
        "### **Data Cleaning and Tokenization**\n",
        "First, we clean the text file by removing function words (stopwords) so that the words do not dominate the analysis. Then the words are tokenized which means that the words are given indicators (such as a number) and same words have the same indicator."
      ],
      "metadata": {
        "id": "J2bBsEGLq7vz"
      }
    },
    {
      "cell_type": "code",
      "source": [
        "file_path = input(\"Enter the path to the text file (press Enter for combined_file.txt): \")\n",
        "\n",
        "if file_path == \"\":\n",
        "    text = read_text_file()\n",
        "else:\n",
        "    text = read_text_file(file_path)\n",
        "\n",
        "preprocessed_text = preprocess_text(text)\n",
        "\n",
        "words = preprocessed_text.split()\n",
        "word_counts = Counter(words)\n",
        "\n",
        "filtered_word_counts = exclude_common_words(word_counts)\n",
        "filtered_words = exclude_stop_words(filtered_word_counts)\n",
        "word_counts = Counter(filtered_words)"
      ],
      "metadata": {
        "colab": {
          "base_uri": "https://localhost:8080/"
        },
        "id": "MZz5qViOVz99",
        "outputId": "92f4108e-9ff2-480e-a938-ed36d1b27d63"
      },
      "execution_count": null,
      "outputs": [
        {
          "name": "stdout",
          "output_type": "stream",
          "text": [
            "Enter the path to the text file (press Enter for combined_file.txt): \n"
          ]
        }
      ]
    },
    {
      "cell_type": "markdown",
      "source": [
        "---\n",
        "### **Keyword Extraction using Rake-NLTK**\n",
        "Next, we run the code below to extract a number of keywords from the cleaned text. The default number of keywords to be displayed is 5."
      ],
      "metadata": {
        "id": "YQwjFrcIbUtf"
      }
    },
    {
      "cell_type": "code",
      "source": [
        "# Extract keywords using Rake-NLTK\n",
        "keywords = extract_keywords(preprocessed_text)\n",
        "\n",
        "# Display Rake-NLTK extracted keywords\n",
        "no_of_keyword = input(\"Enter the number of keywords to display (press Enter for default = 5): \")\n",
        "if no_of_keyword == \"\" :\n",
        "  nkey = 5\n",
        "else :\n",
        "  nkey = int(no_of_keyword)\n",
        "print(\"\\nExtracted Keywords using Rake-NLTK:\")\n",
        "for keyword in keywords[:nkey]:\n",
        "    print(\"\\n____________________________________________________________\\n\")\n",
        "    print(keyword)"
      ],
      "metadata": {
        "colab": {
          "base_uri": "https://localhost:8080/"
        },
        "id": "AKjq92CTVaJ-",
        "outputId": "40f0d450-23e0-4207-83d6-ff9a27a84d29"
      },
      "execution_count": null,
      "outputs": [
        {
          "output_type": "stream",
          "name": "stdout",
          "text": [
            "Enter the number of keywords to display (press Enter for default = 5): \n",
            "\n",
            "Extracted Keywords using Rake-NLTK:\n",
            "\n",
            "____________________________________________________________\n",
            "\n",
            "teetotums humming tops needle cases pen wipers smelling bottles conversation cards bouquet holders real fruit made artificially dazzling\n",
            "\n",
            "____________________________________________________________\n",
            "\n",
            "magnificent kind fowls tongues preserves fruits confectionaries jellies neguses barley sugar temples trifles crackers eat\n",
            "\n",
            "____________________________________________________________\n",
            "\n",
            "tambourines books work boxes paint boxes sweetmeat boxes peep show boxes\n",
            "\n",
            "____________________________________________________________\n",
            "\n",
            "french polished tables chairs bedsteads wardrobes eight day clocks\n",
            "\n",
            "____________________________________________________________\n",
            "\n",
            "cheeses double glo sterman family cheshireman dutchman north wiltshireman\n"
          ]
        }
      ]
    },
    {
      "cell_type": "markdown",
      "source": [
        "---\n",
        "\n",
        "The results of the keyword analysis shows almost incoherent text which may be due to the writing style which is creative writing style. However, the keywords of the text seem to indicate a theme of objects used by people in the story. The selected text file is a Christmas story and the keywords could indicate the exchange of gifts for the Christmas celebration and the preparation for Christmas.\n",
        "\n",
        "The gift exchange and Christmas gift preparation could be interpreted from the first keyword (\"... conversation cards bouquet holders ...\") and the third keyword (\"...work boxes paint boxes sweetmeat boxes...\").\n",
        "\n",
        "The celebration can be seen in the second keyword (\"... fruits confectionaries jellies neguses barley sugar ...  eat\") and the fifth keyword (\"cheeses ... family cheshireman dutchman north wiltshireman\").\n",
        "\n",
        "The fourth keyword (\"... tables chairs bedsteads wardrobes...\") could indicate a description of someone's home or a place.\n",
        "\n",
        "The keywords presented are the words that show which the topics are is the most prevalent in the text.\n",
        "\n"
      ],
      "metadata": {
        "id": "JGEfMaMtfz21"
      }
    },
    {
      "cell_type": "markdown",
      "source": [
        "---\n",
        "### **Word Frequency Analysis**\n",
        "\n",
        "Next, run the functions for word frequency analysis to retrieve the top 10 most words in the cleaned text. Then input a word to retrieve the word count and percentage.\n",
        "\n",
        "(the example word chosen for word count is \"love\")"
      ],
      "metadata": {
        "id": "EShp38xMccSU"
      }
    },
    {
      "cell_type": "code",
      "source": [
        "top_keywords = word_counts.most_common(10)\n",
        "total_words_excluding_stop = sum(word_counts.values())\n",
        "\n",
        "# Display top 10 keywords, their counts, and percentages\n",
        "print(\"\\nTop 10 Keywords:\")\n",
        "for keyword, count in top_keywords:\n",
        "    percentage = calculate_percentage(count, total_words_excluding_stop)\n",
        "    print(f\"{keyword}: Count={count}, Percentage={percentage:.2f}%\")"
      ],
      "metadata": {
        "colab": {
          "base_uri": "https://localhost:8080/"
        },
        "id": "f5edQCpsVQoR",
        "outputId": "97525b66-7523-4587-96b8-ab345c3cdf16"
      },
      "execution_count": null,
      "outputs": [
        {
          "output_type": "stream",
          "name": "stdout",
          "text": [
            "\n",
            "Top 10 Keywords:\n",
            "old: Count=107, Percentage=0.95%\n",
            "said: Count=93, Percentage=0.83%\n",
            "one: Count=75, Percentage=0.67%\n",
            "little: Count=67, Percentage=0.60%\n",
            "cheeseman: Count=64, Percentage=0.57%\n",
            "upon: Count=57, Percentage=0.51%\n",
            "christmas: Count=55, Percentage=0.49%\n",
            "never: Count=54, Percentage=0.48%\n",
            "work: Count=51, Percentage=0.45%\n",
            "time: Count=47, Percentage=0.42%\n"
          ]
        }
      ]
    },
    {
      "cell_type": "code",
      "source": [
        "# Provide the count of a specific keyword as requested by the user\n",
        "# eg: love\n",
        "user_keyword = input(\"Enter a keyword to get its count (case insensitive): \")\n",
        "user_keyword_count = word_counts.get(user_keyword.lower(), 0)\n",
        "user_percentage = calculate_percentage(user_keyword_count, total_words_excluding_stop)\n",
        "print(f'\\nCount of \"{user_keyword}\": {user_keyword_count}, Percentage: {user_percentage:.3f}%')"
      ],
      "metadata": {
        "colab": {
          "base_uri": "https://localhost:8080/"
        },
        "id": "ypc8nZ7oBVpF",
        "outputId": "8bfada24-7c20-48d7-f97e-c05703576d71"
      },
      "execution_count": null,
      "outputs": [
        {
          "output_type": "stream",
          "name": "stdout",
          "text": [
            "Enter a keyword to get its count (case insensitive): love\n",
            "\n",
            "Count of \"love\": 14, Percentage: 0.124%\n"
          ]
        }
      ]
    },
    {
      "cell_type": "markdown",
      "source": [
        "\n",
        "\n",
        "---\n",
        "\n",
        "From the output above, we can see that the top 10 keywords are old, said, one, little, cheeseman, upon, christmas, never, work and time. The percentages range between 0.95% to 0.42%. These words do not seem to have a specific theme but it may suggest that it is a story about christmas and the daily life of people.\n",
        "\n",
        "The chosen word to check its count is \"love\" and it occurs 14 times.\n"
      ],
      "metadata": {
        "id": "IBX5eUkysqSi"
      }
    },
    {
      "cell_type": "markdown",
      "source": [
        "\n",
        "\n",
        "---\n",
        "\n",
        "### **Data Visualisation**\n",
        "\n",
        "Next, we plot the top 10 keywords in a barplot to better visualise the counts of the words."
      ],
      "metadata": {
        "id": "BgddRbVdthMm"
      }
    },
    {
      "cell_type": "code",
      "source": [
        "print(\"\\nTop 10 Words:\")\n",
        "keywords = []\n",
        "counts = []\n",
        "percentages = []\n",
        "\n",
        "for keyword, count in top_keywords:\n",
        "    percentage = calculate_percentage(count, total_words_excluding_stop)\n",
        "    print(f\"{keyword}: Count={count}, Percentage={percentage:.2f}%\")\n",
        "    keywords.append(keyword)\n",
        "    counts.append(count)\n",
        "    percentages.append(percentage)\n",
        "\n",
        "plt.figure(figsize=(10, 6))\n",
        "plt.bar(keywords, percentages, color='pink', alpha = 0.7)\n",
        "plt.xlabel('Words')\n",
        "plt.ylabel('Percentage')\n",
        "plt.title('Top 10 Word Percentages')\n",
        "plt.xticks(rotation=45, ha='right')  # Rotate x-axis labels for better readability\n",
        "plt.tight_layout()\n",
        "\n",
        "plt.show()\n"
      ],
      "metadata": {
        "colab": {
          "base_uri": "https://localhost:8080/",
          "height": 815
        },
        "id": "78grtOQpZoMG",
        "outputId": "4363508d-4eda-45f3-827a-b7f6c6865317"
      },
      "execution_count": null,
      "outputs": [
        {
          "output_type": "stream",
          "name": "stdout",
          "text": [
            "\n",
            "Top 10 Words:\n",
            "old: Count=107, Percentage=0.95%\n",
            "said: Count=93, Percentage=0.83%\n",
            "one: Count=75, Percentage=0.67%\n",
            "little: Count=67, Percentage=0.60%\n",
            "cheeseman: Count=64, Percentage=0.57%\n",
            "upon: Count=57, Percentage=0.51%\n",
            "christmas: Count=55, Percentage=0.49%\n",
            "never: Count=54, Percentage=0.48%\n",
            "work: Count=51, Percentage=0.45%\n",
            "time: Count=47, Percentage=0.42%\n"
          ]
        },
        {
          "output_type": "display_data",
          "data": {
            "text/plain": [
              "<Figure size 1000x600 with 1 Axes>"
            ],
            "image/png": "[encoded data removed]"
          },
          "metadata": {}
        }
      ]
    },
    {
      "cell_type": "markdown",
      "source": [
        "Based on the bar plot above, the top three words have evident decrease in frequencies which are about 0.1% decrease consecutively. The frequency change starts declining after the fourth spot. This may indicate that the text heavily uses the words \"old\" and \"said\" and that the rest of the words are used almost equally in the text."
      ],
      "metadata": {
        "id": "QuPV_A6UMg7a"
      }
    },
    {
      "cell_type": "markdown",
      "source": [
        "\n",
        "\n",
        "---\n",
        "\n",
        "Next, a donut plot is plotted to see the frequency of the selected word against the rest of the words in the text. The frequency displayed is set to show the percentage with 3 decimal places because the words can have a very low frequency."
      ],
      "metadata": {
        "id": "Fb12MUV-0I3z"
      }
    },
    {
      "cell_type": "code",
      "source": [
        "if user_keyword_count > 0:\n",
        "    user_keyword_percentage = calculate_percentage(user_keyword_count, total_words_excluding_stop)\n",
        "    other_words_percentage = 100 - user_keyword_percentage\n",
        "\n",
        "    labels = [f'{user_keyword} ({user_keyword_percentage:.3f}%)', 'Other Words',]\n",
        "    sizes = [user_keyword_percentage, other_words_percentage]\n",
        "    colors = ['gray', 'pink']\n",
        "\n",
        "    plt.figure(figsize=(8, 8))\n",
        "    plt.pie(sizes, labels=labels, autopct='%1.3f%%', startangle=90, colors=colors, wedgeprops=dict(width=0.4))\n",
        "    plt.axis('equal')  # Equal aspect ratio ensures that the pie chart is circular.\n",
        "    plt.title(f'Donut Chart for \"{user_keyword}\"')\n",
        "    plt.show()\n",
        "else:\n",
        "    print(f\"\\n '{user_keyword}' not found in the text.\")\n"
      ],
      "metadata": {
        "colab": {
          "base_uri": "https://localhost:8080/",
          "height": 684
        },
        "id": "PbuX0rlYBQ6c",
        "outputId": "8c70a249-8401-4379-8c91-7e07c6c1a8c2"
      },
      "execution_count": null,
      "outputs": [
        {
          "output_type": "display_data",
          "data": {
            "text/plain": [
              "<Figure size 800x800 with 1 Axes>"
            ],
            "image/png": "[encoded data removed]"
          },
          "metadata": {}
        }
      ]
    },
    {
      "cell_type": "markdown",
      "source": [
        "The donut chart above shows that the percentage of the word \"love\" against the rest of the words in the text is 0.124%, indicated by the gray slice in the donut. The word does not occur many times in the text hence it has a pretty low frequency percentage."
      ],
      "metadata": {
        "id": "hwQc6Rjau-GM"
      }
    },
    {
      "cell_type": "markdown",
      "source": [
        "\n",
        "\n",
        "---\n",
        "### **Conclusion**\n",
        "\n",
        "\n",
        "To conclude, the keyword analysis and the word frequency analysis indicates that \"Charles_Dickens.txt\" is a story about life and happens during Christmas season.\n",
        "\n",
        "The program above may be used to carry out keyword and word frequency analysis for other text files and it can provide insights on the content of the text just like the example done on the Charles_Dickens.txt file from Project Gutenberg"
      ],
      "metadata": {
        "id": "1rNzrGFn2PYc"
      }
    }
  ]
}